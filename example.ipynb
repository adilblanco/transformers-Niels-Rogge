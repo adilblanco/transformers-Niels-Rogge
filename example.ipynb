{
 "cells": [
  {
   "cell_type": "code",
   "execution_count": 1,
   "id": "604b25e2-80ae-4c42-afed-a1acb20ae71e",
   "metadata": {},
   "outputs": [],
   "source": [
    "# https://huggingface.co/docs/transformers/en/model_doc/t5#transformers.TFT5ForConditionalGeneration"
   ]
  },
  {
   "cell_type": "code",
   "execution_count": 3,
   "id": "a6aa94a8-588a-4dbb-aebb-0e77eea67ef4",
   "metadata": {},
   "outputs": [],
   "source": [
    "from transformers import AutoTokenizer, T5ForConditionalGeneration\n",
    "import tqdm as notebook_tqdm\n",
    "\n",
    "tokenizer = AutoTokenizer.from_pretrained(\"t5-small\")\n",
    "model = T5ForConditionalGeneration.from_pretrained(\"t5-small\")"
   ]
  },
  {
   "cell_type": "markdown",
   "id": "3051e821-5c47-4f57-bdd8-ebe3ac8504cb",
   "metadata": {},
   "source": [
    "## Inference (generating new text)"
   ]
  },
  {
   "cell_type": "code",
   "execution_count": 4,
   "id": "a09d1dd4-5ba0-449c-95f9-facbcdacd1e1",
   "metadata": {},
   "outputs": [
    {
     "name": "stdout",
     "output_type": "stream",
     "text": [
      "Bonjour, mon chien est cute\n"
     ]
    }
   ],
   "source": [
    "# inference\n",
    "inputs = tokenizer(\n",
    "    \"translate from English to French: Hello, my dog is cute\", return_tensors=\"pt\"\n",
    ").input_ids  # Batch size 1\n",
    "outputs = model.generate(inputs)\n",
    "print(tokenizer.decode(outputs[0], skip_special_tokens=True))\n",
    "# studies have shown that owning a dog is good for you"
   ]
  },
  {
   "cell_type": "code",
   "execution_count": 5,
   "id": "568cefe1-ecf5-427e-a654-421e6e6f857f",
   "metadata": {},
   "outputs": [],
   "source": [
    "# \"pt\" = return des torch.Tensor\n",
    "# \"tf\" = return des tf.Tensor"
   ]
  },
  {
   "cell_type": "markdown",
   "id": "e61ffb58-4687-44cf-ab8a-9b9486564702",
   "metadata": {},
   "source": [
    "## Training"
   ]
  },
  {
   "cell_type": "code",
   "execution_count": 7,
   "id": "71b1dbfa-43d8-44f8-bc1d-1130b7e6aa44",
   "metadata": {},
   "outputs": [
    {
     "name": "stdout",
     "output_type": "stream",
     "text": [
      "Loss: 4.044365882873535\n",
      "Logits: tensor([[[-11.4802,  -6.3112,  -8.8519,  ..., -40.1647, -40.2136, -40.1873],\n",
      "         [-20.1748,  -4.9943,  -8.1379,  ..., -41.0088, -41.0694, -41.0315],\n",
      "         [-24.2977,  -6.6790,  -9.9212,  ..., -39.9301, -39.9433, -39.8943],\n",
      "         ...,\n",
      "         [-16.9993,  -7.9802,  -3.4350,  ..., -37.2711, -37.2782, -37.3154],\n",
      "         [-17.8330,  -1.9446,  -5.3204,  ..., -37.9312, -37.9394, -37.9565],\n",
      "         [-21.5061,  -2.5186,  -7.6505,  ..., -41.6587, -41.7042, -41.7038]]],\n",
      "       grad_fn=<UnsafeViewBackward0>)\n"
     ]
    }
   ],
   "source": [
    "# training\n",
    "inputs = tokenizer(\"Hello, my dog is cute\", return_tensors=\"pt\").input_ids\n",
    "labels = tokenizer(\"Salut, mon chien est mignon\", return_tensors=\"pt\").input_ids\n",
    "outputs = model(inputs, labels=labels)\n",
    "loss = outputs.loss\n",
    "logits = outputs.logits\n",
    "print(f\"Loss: {loss}\")\n",
    "print(f\"Logits: {logits}\")"
   ]
  },
  {
   "cell_type": "code",
   "execution_count": null,
   "id": "664b84bd-3e32-473e-9741-19d50bc6c8f4",
   "metadata": {},
   "outputs": [],
   "source": []
  }
 ],
 "metadata": {
  "kernelspec": {
   "display_name": "Python 3 (ipykernel)",
   "language": "python",
   "name": "python3"
  },
  "language_info": {
   "codemirror_mode": {
    "name": "ipython",
    "version": 3
   },
   "file_extension": ".py",
   "mimetype": "text/x-python",
   "name": "python",
   "nbconvert_exporter": "python",
   "pygments_lexer": "ipython3",
   "version": "3.10.18"
  }
 },
 "nbformat": 4,
 "nbformat_minor": 5
}
